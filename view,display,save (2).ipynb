{
 "cells": [
  {
   "cell_type": "code",
   "execution_count": null,
   "id": "b13ec587",
   "metadata": {},
   "outputs": [],
   "source": [
    "import cv2\n",
    "image=cv2.imread(\"2.jpg\")\n",
    "cv2.imshow('To display images',image)\n",
    "cv2.waitKey(0)\n",
    "cv2.destroyAllWindows()\n"
   ]
  },
  {
   "cell_type": "code",
   "execution_count": null,
   "id": "dfa9c5a0",
   "metadata": {},
   "outputs": [],
   "source": [
    "cv2.imwrite('C:/Users/User/Desktop/2.jpg',image)"
   ]
  },
  {
   "cell_type": "code",
   "execution_count": null,
   "id": "3ae9e956",
   "metadata": {},
   "outputs": [],
   "source": [
    "#Height and Width of image\n",
    "from PIL import Image\n",
    "x=\"3.jpg\"\n",
    "img =Image.open(x)\n",
    "\n",
    "width = img.width\n",
    "height = img.height\n",
    "print(\"The height of the image is: \", height)\n",
    "print(\"The width of the image is: \", width)\n",
    "\n"
   ]
  },
  {
   "cell_type": "code",
   "execution_count": null,
   "id": "7fefa901",
   "metadata": {},
   "outputs": [],
   "source": [
    "#No. of channels from color image\n",
    "import numpy\n",
    "image=cv2.imread(\"5.jpg\",0)\n",
    "print(\"No. of channels is:\"+str(image.ndim))\n",
    "print(\"No. of channels is:\",image.shape)\n",
    "cv2.imshow(\"Channel\",image)\n",
    "cv2.waitKey(0)\n",
    "cv2.destroyAllWindows()"
   ]
  },
  {
   "cell_type": "code",
   "execution_count": null,
   "id": "40028e92",
   "metadata": {},
   "outputs": [],
   "source": [
    "#No. of channels from gray-scale image\n",
    "import numpy\n",
    "image=cv2.imread(\"5.jpg\")\n",
    "print(\"No. of channels is:\"+str(image.ndim))\n",
    "print(\"No. of channels is:\",image.shape)\n",
    "cv2.imshow(\"Channel\",image)\n",
    "cv2.waitKey(0)\n",
    "cv2.destroyAllWindows()"
   ]
  },
  {
   "cell_type": "code",
   "execution_count": null,
   "id": "45109701",
   "metadata": {},
   "outputs": [],
   "source": [
    "#Resize image\n",
    "from PIL import Image\n",
    "x=\"4.jpg\"\n",
    "img =Image.open(x)\n",
    "new_im=img.resize((200,200))\n",
    "new_im"
   ]
  },
  {
   "cell_type": "code",
   "execution_count": null,
   "id": "ff9378c9",
   "metadata": {},
   "outputs": [],
   "source": [
    "#Matrix representation of image\n",
    "\n",
    "import matplotlib.image as image\n",
    "img=image.imread(\"5.jpg\")\n",
    "print(\"The shape of the image is\",img.shape)\n",
    "print(\"The array of image is\")\n",
    "print(img)"
   ]
  },
  {
   "cell_type": "code",
   "execution_count": null,
   "id": "01f48fed",
   "metadata": {},
   "outputs": [],
   "source": [
    "#Binary image\n",
    "\n",
    "import cv2\n",
    "img=cv2.imread(\"2.jpg\",0)\n",
    "ret,bw_img=cv2.threshold(img,127,255,cv2.THRESH_BINARY)\n",
    "\n",
    "#Converting to its binary form\n",
    "bw=cv2.threshold(img,127,255,cv2.THRESH_BINARY)\n",
    "\n",
    "cv2.imshow(\"BINARY\",bw_img)\n",
    "cv2.waitKey(0)\n",
    "cv2.destroyAllWindows()"
   ]
  },
  {
   "cell_type": "code",
   "execution_count": 1,
   "id": "f5360a68",
   "metadata": {},
   "outputs": [
    {
     "name": "stdout",
     "output_type": "stream",
     "text": [
      "[[27 26 27 ...  3  3  3]\n",
      " [28 27 28 ...  3  3  3]\n",
      " [29 29 30 ...  3  3  3]\n",
      " ...\n",
      " [95 93 93 ... 63 63 63]\n",
      " [96 95 95 ... 49 45 51]\n",
      " [96 96 95 ... 69 67 75]]\n",
      "[[ 17  16  16 ...   4   4   4]\n",
      " [ 18  17  17 ...   4   4   4]\n",
      " [ 19  19  19 ...   4   4   4]\n",
      " ...\n",
      " [116 116 116 ... 164 164 163]\n",
      " [115 116 116 ... 161 157 162]\n",
      " [115 115 116 ... 188 186 191]]\n",
      "[[ 10   9   8 ...   2   2   2]\n",
      " [ 11  10   9 ...   2   2   2]\n",
      " [ 12  12  11 ...   2   2   2]\n",
      " ...\n",
      " [148 148 148 ... 162 162 163]\n",
      " [148 148 148 ... 154 150 158]\n",
      " [148 148 148 ... 180 178 184]]\n"
     ]
    }
   ],
   "source": [
    "\n",
    "import cv2\n",
    "img=cv2.imread(\"3.jpg\")\n",
    "B,G,R=cv2.split(img)\n",
    "print(B)\n",
    "print(G)\n",
    "print(R)"
   ]
  },
  {
   "cell_type": "code",
   "execution_count": 2,
   "id": "1a0238ff",
   "metadata": {},
   "outputs": [],
   "source": [
    "cv2.imshow(\"Blue\",B)\n",
    "cv2.waitKey(0)\n",
    "cv2.destroyAllWindows()"
   ]
  },
  {
   "cell_type": "code",
   "execution_count": 4,
   "id": "a54d52ce",
   "metadata": {},
   "outputs": [],
   "source": [
    "cv2.imshow(\"Green\",G)\n",
    "cv2.waitKey(0)\n",
    "cv2.destroyAllWindows()"
   ]
  },
  {
   "cell_type": "code",
   "execution_count": 5,
   "id": "1c2c0b45",
   "metadata": {},
   "outputs": [],
   "source": [
    "cv2.imshow(\"Red\",R)\n",
    "cv2.waitKey(0)\n",
    "cv2.destroyAllWindows()"
   ]
  },
  {
   "cell_type": "code",
   "execution_count": null,
   "id": "7d0830af",
   "metadata": {},
   "outputs": [],
   "source": [
    "#Aspect ratio\n",
    "\n",
    "img=cv2.imread(\"3.jpg\")\n",
    "new_im=img.resize((400,200))\n",
    "ar=1*(img.shape[1]/img.shape[0])\n",
    "print(\"Aspect ratio\")\n",
    "print(ar)"
   ]
  },
  {
   "cell_type": "code",
   "execution_count": null,
   "id": "6ae3906f",
   "metadata": {},
   "outputs": [],
   "source": [
    "#Mirror image\n",
    "from PIL import Image\n",
    "x=\"4.jpg\"\n",
    "img =Image.open(x)\n",
    "hori_flip=img.transpose(Image.FLIP_LEFT_RIGHT)\n",
    "\n",
    "hori_flip.show()\n",
    "\n",
    "verti_flip=img.transpose(Image.FLIP_TOP_BOTTOM)\n",
    "verti_flip.show()"
   ]
  },
  {
   "cell_type": "code",
   "execution_count": null,
   "id": "9a6a4736",
   "metadata": {},
   "outputs": [],
   "source": [
    "#Different color spaces\n",
    "\n",
    "import cv2\n",
    "img=cv2.imread(\"6.jpg\")\n",
    "grey=cv2.cvtColor(img,cv2.COLOR_BGR2GRAY)\n",
    "hsv=cv2.cvtColor(img,cv2.COLOR_BGR2HSV)\n",
    "lab=cv2.cvtColor(img,cv2.COLOR_BGR2LAB)\n",
    "hls=cv2.cvtColor(img,cv2.COLOR_BGR2HLS)\n",
    "yuv=cv2.cvtColor(img,cv2.COLOR_BGR2YUV)\n",
    "\n",
    "cv2.imshow(\"GREY\",grey)\n",
    "cv2.imshow(\"HSV\",hsv)\n",
    "cv2.imshow(\"LAB\",lab)\n",
    "cv2.imshow(\"HLS\",hls)\n",
    "cv2.imshow(\"YUV\",yuv)\n",
    "\n",
    "cv2.waitKey(0)\n",
    "cv2.destroyAllWindows()"
   ]
  },
  {
   "cell_type": "code",
   "execution_count": null,
   "id": "9c0cd7c8",
   "metadata": {},
   "outputs": [
    {
     "name": "stderr",
     "output_type": "stream",
     "text": [
      "C:\\Users\\User\\AppData\\Local\\Temp/ipykernel_12256/3674339693.py:7: RuntimeWarning: divide by zero encountered in true_divide\n",
      "  div=img1/img2\n"
     ]
    }
   ],
   "source": [
    "import cv2\n",
    "img1=cv2.imread(\"im1.jpg\")\n",
    "img2=cv2.imread(\"im2.jpg\")\n",
    "sum=img1+img2\n",
    "sub=img1-img2\n",
    "mul=img1*img2\n",
    "div=img1/img2\n",
    "cv2.imshow(\"SUB:\",sub)\n",
    "cv2.imshow(\"SUM:\",sum)\n",
    "cv2.imshow(\"MUL:\",mul)\n",
    "cv2.imshow(\"DIV:\",div)\n",
    "cv2.waitKey(0)\n",
    "cv2.destroyAllWindows()"
   ]
  },
  {
   "cell_type": "code",
   "execution_count": null,
   "id": "3940a1f0",
   "metadata": {},
   "outputs": [],
   "source": []
  }
 ],
 "metadata": {
  "kernelspec": {
   "display_name": "Python 3 (ipykernel)",
   "language": "python",
   "name": "python3"
  },
  "language_info": {
   "codemirror_mode": {
    "name": "ipython",
    "version": 3
   },
   "file_extension": ".py",
   "mimetype": "text/x-python",
   "name": "python",
   "nbconvert_exporter": "python",
   "pygments_lexer": "ipython3",
   "version": "3.9.7"
  }
 },
 "nbformat": 4,
 "nbformat_minor": 5
}
