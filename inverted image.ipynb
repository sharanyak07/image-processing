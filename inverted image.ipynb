{
 "cells": [
  {
   "cell_type": "code",
   "execution_count": 8,
   "id": "9f09afb6",
   "metadata": {},
   "outputs": [
    {
     "name": "stdout",
     "output_type": "stream",
     "text": [
      "D:/ip1\\invert_1img.jpg\n",
      "D:/ip1\\invert_2img.jpg\n",
      "D:/ip1\\invert_box.jpg\n",
      "D:/ip1\\invert_box1.png\n",
      "D:/ip1\\invert_catdamaged.png\n",
      "D:/ip1\\invert_catmask.png\n",
      "D:/ip1\\invert_damaged img2.jpg\n",
      "D:/ip1\\invert_filter.png\n",
      "D:/ip1\\invert_i1.jpg\n",
      "D:/ip1\\invert_i10.jpg\n",
      "D:/ip1\\invert_i2.jpeg\n",
      "D:/ip1\\invert_i3.jpg\n",
      "D:/ip1\\invert_i4.jfif\n",
      "D:/ip1\\invert_i7.jpg\n",
      "D:/ip1\\invert_i9.jpg\n",
      "D:/ip1\\invert_img1.png\n",
      "D:/ip1\\invert_img3.png\n",
      "D:/ip1\\invert_logo.png\n",
      "D:/ip1\\invert_logo1.jpg\n",
      "D:/ip1\\invert_logos.png\n",
      "D:/ip1\\invert_s1.jpg\n",
      "D:/ip1\\invert_s3.png\n",
      "D:/ip1\\invert_text1.png\n",
      "D:/ip1\\invert_text2.jpg\n",
      "D:/ip1\\invert_watermark.png\n",
      "D:/ip1\\invert_wt.png\n"
     ]
    }
   ],
   "source": [
    "from PIL import Image\n",
    "from PIL import ImageFilter\n",
    "import os\n",
    "\n",
    "def main():\n",
    "# path of the folder containing the raw images\n",
    "    inPath =\"D:/images\"\n",
    "\n",
    "# path of the folder that will contain the modified image\n",
    "    outPath =\"D:/ip1\"\n",
    "\n",
    "    for imagePath in os.listdir(inPath):\n",
    "# imagePath contains name of the image\n",
    "        inputPath = os.path.join(inPath, imagePath)\n",
    "\n",
    "# inputPath contains the full directory name\n",
    "        img = Image.open(inputPath)\n",
    "\n",
    "        fullOutPath = os.path.join(outPath, 'invert_'+imagePath)\n",
    "# fullOutPath contains the path of the output\n",
    "# image that needs to be generated\n",
    "        img.rotate(90).save(fullOutPath)\n",
    "\n",
    "        print(fullOutPath)\n",
    "\n",
    "# Driver Function\n",
    "if __name__ == '__main__':\n",
    "    main()"
   ]
  }
 ],
 "metadata": {
  "kernelspec": {
   "display_name": "Python 3 (ipykernel)",
   "language": "python",
   "name": "python3"
  },
  "language_info": {
   "codemirror_mode": {
    "name": "ipython",
    "version": 3
   },
   "file_extension": ".py",
   "mimetype": "text/x-python",
   "name": "python",
   "nbconvert_exporter": "python",
   "pygments_lexer": "ipython3",
   "version": "3.9.7"
  }
 },
 "nbformat": 4,
 "nbformat_minor": 5
}
