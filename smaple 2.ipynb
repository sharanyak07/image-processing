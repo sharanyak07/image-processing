{
 "cells": [
  {
   "cell_type": "code",
   "execution_count": 5,
   "id": "306199f2",
   "metadata": {},
   "outputs": [],
   "source": [
    "#BITWISE OPERATORS\n",
    "import cv2 as cv\n",
    "\n",
    "img1 = cv.imread('im1.jpg')\n",
    "img2 = cv.imread('im2.jpg')\n",
    "bitwise_AND = cv.bitwise_and(img1, img2)\n",
    "bitwise_OR = cv.bitwise_or(img1, img2)\n",
    "bitwise_NOT = cv.bitwise_not(img1)\n",
    "cv.imshow('img1',img1)\n",
    "cv.imshow('img2',img2)\n",
    "cv.imshow('AND',bitwise_AND)\n",
    "cv.imshow('OR',bitwise_OR)\n",
    "cv.imshow('NOT',bitwise_NOT)\n",
    "cv.waitKey(0)  \n",
    "cv.destroyAllWindows()"
   ]
  },
  {
   "cell_type": "code",
   "execution_count": 4,
   "id": "98d1cc35",
   "metadata": {},
   "outputs": [],
   "source": [
    "#MERGING\n",
    "# import PIL module\n",
    "from PIL import Image\n",
    "import cv2\n",
    "  \n",
    "# Front Image\n",
    "filename = 'img1.png'\n",
    "  \n",
    "# Back Image\n",
    "filename1 = 'img2.png'\n",
    "  \n",
    "# Open Front Image\n",
    "frontImage = Image.open(filename)\n",
    "  \n",
    "# Open Background Image\n",
    "background = Image.open(filename1)\n",
    "  \n",
    "# Convert image to RGBA\n",
    "frontImage = frontImage.convert(\"RGBA\")\n",
    "  \n",
    "# Convert image to RGBA\n",
    "background = background.convert(\"RGBA\")\n",
    "  \n",
    "# Calculate width to be at the center\n",
    "width = (background.width - frontImage.width) // 2\n",
    "  \n",
    "# Calculate height to be at the center\n",
    "height = (background.height - frontImage.height) // 2\n",
    "  \n",
    "# Paste the frontImage at (width, height)\n",
    "background.paste(frontImage, (width, height), frontImage)\n",
    "  \n",
    "# Save this image\n",
    "background.save(\"newimg.png\", format=\"png\")\n"
   ]
  },
  {
   "cell_type": "code",
   "execution_count": 5,
   "id": "c1a5315c",
   "metadata": {},
   "outputs": [],
   "source": [
    "from PIL import Image,ImageDraw,ImageFilter\n",
    "im1=Image.open('img1.png')\n",
    "im2=Image.open('img2.png')\n",
    "back_im=im1.copy()\n",
    "back_im.paste(im2,(100,100))\n",
    "back_im.show()"
   ]
  },
  {
   "cell_type": "code",
   "execution_count": 15,
   "id": "b434d17a",
   "metadata": {},
   "outputs": [],
   "source": [
    "#MEDIAN FILTERING\n",
    "import cv2\n",
    "import numpy as np\n",
    "img_noisy1=cv2.imread(\"filter.png\",0)\n",
    "m,n=img_noisy1.shape\n",
    "img_new1=np.zeros([m,n])\n",
    "for i in range(1,m-1):\n",
    "    for j in range(1,n-1):\n",
    "        temp=[img_noisy1[i-1,j-1],img_noisy1[i-1,j],img_noisy1[i-1,j-1],img_noisy1[i-1,j+1],img_noisy1[i,j-1],img_noisy1[i,j],img_noisy1[i,j+1],img_noisy1[i+1,j-1],img_noisy1[i+1,j],img_noisy1[i+1,j+1]]\n",
    "        temp=sorted(temp)\n",
    "        img_new1[i,j]=temp[4]\n",
    "        img_new1=img_new1.astype(np.uint8)\n",
    "cv2.imshow(\"MEDIAN FILTERED IMAGE\",img_new1)\n",
    "cv2.waitKey(0)  \n",
    "cv2.destroyAllWindows()        "
   ]
  },
  {
   "cell_type": "code",
   "execution_count": null,
   "id": "3154da17",
   "metadata": {},
   "outputs": [],
   "source": []
  }
 ],
 "metadata": {
  "kernelspec": {
   "display_name": "Python 3 (ipykernel)",
   "language": "python",
   "name": "python3"
  },
  "language_info": {
   "codemirror_mode": {
    "name": "ipython",
    "version": 3
   },
   "file_extension": ".py",
   "mimetype": "text/x-python",
   "name": "python",
   "nbconvert_exporter": "python",
   "pygments_lexer": "ipython3",
   "version": "3.9.7"
  }
 },
 "nbformat": 4,
 "nbformat_minor": 5
}
