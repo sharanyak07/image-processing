{
 "cells": [
  {
   "cell_type": "code",
   "execution_count": null,
   "id": "59dbc032",
   "metadata": {},
   "outputs": [],
   "source": [
    "#Adding two images and remove bg of first image\n",
    "from PIL import Image,ImageDraw,ImageFilter\n",
    "im1=Image.open(\"i10.jpg\")\n",
    "im2=Image.open(\"i9.jpg\")\n",
    "mask_im=Image.new(\"L\",im2.size,0)\n",
    "draw=ImageDraw.Draw(mask_im)\n",
    "draw.ellipse((90,110,725,770),fill=225)\n",
    "mask_im_blur=mask_im.filter(ImageFilter.GaussianBlur(5))\n",
    "back_im=im1.copy()\n",
    "back_im.paste(im2,(0,0),mask_im_blur)\n",
    "back_im.show()"
   ]
  }
 ],
 "metadata": {
  "kernelspec": {
   "display_name": "Python 3 (ipykernel)",
   "language": "python",
   "name": "python3"
  },
  "language_info": {
   "codemirror_mode": {
    "name": "ipython",
    "version": 3
   },
   "file_extension": ".py",
   "mimetype": "text/x-python",
   "name": "python",
   "nbconvert_exporter": "python",
   "pygments_lexer": "ipython3",
   "version": "3.9.7"
  }
 },
 "nbformat": 4,
 "nbformat_minor": 5
}
