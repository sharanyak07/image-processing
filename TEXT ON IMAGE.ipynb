{
 "cells": [
  {
   "cell_type": "code",
   "execution_count": 6,
   "id": "b9e7d363",
   "metadata": {},
   "outputs": [],
   "source": [
    "#text on image\n",
    "from PIL import Image,ImageDraw,ImageFont\n",
    "img = Image.open(\"5.jpg\")\n",
    "draw = ImageDraw.Draw(img)\n",
    "txt=\"GOOD MORNING\"\n",
    "\n",
    "font = ImageFont.truetype('ALGER.TTF',90)\n",
    "\n",
    "draw.text((300,300),txt,font=font)\n",
    "img.show()"
   ]
  },
  {
   "cell_type": "code",
   "execution_count": null,
   "id": "fa04f8f6",
   "metadata": {},
   "outputs": [],
   "source": []
  }
 ],
 "metadata": {
  "kernelspec": {
   "display_name": "Python 3 (ipykernel)",
   "language": "python",
   "name": "python3"
  },
  "language_info": {
   "codemirror_mode": {
    "name": "ipython",
    "version": 3
   },
   "file_extension": ".py",
   "mimetype": "text/x-python",
   "name": "python",
   "nbconvert_exporter": "python",
   "pygments_lexer": "ipython3",
   "version": "3.9.7"
  }
 },
 "nbformat": 4,
 "nbformat_minor": 5
}
