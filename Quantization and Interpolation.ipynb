{
 "cells": [
  {
   "cell_type": "code",
   "execution_count": 8,
   "id": "e76d380e",
   "metadata": {},
   "outputs": [],
   "source": [
    "# Quantization\n",
    "from PIL import Image\n",
    "import PIL\n",
    "img1=Image.open(\"3.jpg\")\n",
    "img1=img1.quantize(10)\n",
    "img1.show()\n",
    "\n"
   ]
  },
  {
   "cell_type": "code",
   "execution_count": 7,
   "id": "b8094091",
   "metadata": {},
   "outputs": [],
   "source": [
    "#interpolation\n",
    "import cv2\n",
    "import numpy as np\n",
    "\n",
    "img=cv2.imread(\"s3.png\")\n",
    "near_img=cv2.resize(img,None,fx=5,fy=5,interpolation=cv2.INTER_NEAREST)\n",
    "cv2.imshow('Near',near_img)\n",
    "cv2.waitKey(0)\n",
    "cv2.destroyAllWindows()\n",
    "\n",
    "img=cv2.imread(\"s3.png\")\n",
    "bilinear_img = cv2.resize(img,None, fx = 5, fy = 5, interpolation = cv2.INTER_LINEAR)\n",
    "cv2.imshow('Bilinear',bilinear_img)\n",
    "cv2.waitKey(0)\n",
    "cv2.destroyAllWindows()\n",
    "\n",
    "\n",
    "img=cv2.imread(\"s3.png\")\n",
    "bicubic_img = cv2.resize(img,None, fx = 5, fy = 5, interpolation = cv2.INTER_CUBIC)\n",
    "cv2.imshow(\"Bicubic\",bicubic_img)\n",
    "cv2.waitKey(0)\n",
    "cv2.destroyAllWindows()\n",
    "\n",
    "\n"
   ]
  },
  {
   "cell_type": "code",
   "execution_count": null,
   "id": "c778671e",
   "metadata": {},
   "outputs": [],
   "source": []
  }
 ],
 "metadata": {
  "kernelspec": {
   "display_name": "Python 3 (ipykernel)",
   "language": "python",
   "name": "python3"
  },
  "language_info": {
   "codemirror_mode": {
    "name": "ipython",
    "version": 3
   },
   "file_extension": ".py",
   "mimetype": "text/x-python",
   "name": "python",
   "nbconvert_exporter": "python",
   "pygments_lexer": "ipython3",
   "version": "3.9.7"
  }
 },
 "nbformat": 4,
 "nbformat_minor": 5
}
