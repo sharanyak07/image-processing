{
 "cells": [
  {
   "cell_type": "code",
   "execution_count": 6,
   "id": "5c61f833",
   "metadata": {},
   "outputs": [],
   "source": [
    "#MEDIAN FILTERING\n",
    "import cv2\n",
    "import numpy as np\n",
    "\n",
    "img_noisy1=cv2.imread(\"filter.png\",0)\n",
    "m,n=img_noisy1.shape\n",
    "img_new1=np.zeros([m,n])\n",
    "\n",
    "for i in range(1,m-1):\n",
    "    for j in range(1,n-1):\n",
    "        temp=[img_noisy1[i-1,j-1],img_noisy1[i-1,j],img_noisy1[i-1,j-1],img_noisy1[i-1,j+1],img_noisy1[i,j-1],img_noisy1[i,j],img_noisy1[i,j+1],img_noisy1[i+1,j-1],img_noisy1[i+1,j],img_noisy1[i+1,j+1]]\n",
    "        temp=sorted(temp)\n",
    "        img_new1[i,j]=temp[4]\n",
    "        img_new1=img_new1.astype(np.uint8)\n",
    "\n",
    "cv2.imshow(\"MEDIAN FILTERED IMAGE\",img_new1)\n",
    "cv2.waitKey(0)  \n",
    "cv2.destroyAllWindows()        "
   ]
  },
  {
   "cell_type": "code",
   "execution_count": 7,
   "id": "b946432c",
   "metadata": {},
   "outputs": [],
   "source": [
    "#AVERAGE FILTERING (imcomplete)\n",
    "import cv2\n",
    "import numpy as np\n",
    "\n",
    "img=cv2.imread(\"filter.png\",0)\n",
    "\n",
    "m,n=img.shape\n",
    "mask=np.ones([3,3],dtype=int)\n",
    "mask=mask/9\n",
    "img_new=np.zeros([m,n])\n",
    "for i in range(1,m-1):\n",
    "     for j in range(1,n-1):\n",
    "            temp=img[i-1, j-1]*mask[0, 0]+img[i-1, j]*mask[0, 1]+img[i-1, j + 1]*mask[0, 2]+img[i, j-1]*mask[1, 0]+ img[i, j]*mask[1, 1]+img[i, j + 1]*mask[1, 2]+img[i + 1, j-1]*mask[2, 0]+img[i + 1, j]*mask[2, 1]+img[i + 1, j + 1]*mask[2, 2]\n",
    "            img_new[i, j]= temp\n",
    "img_new=img_new.astype(np.uint8)\n",
    "cv2.imshow(\"Blurred image\",img_new)\n",
    "cv2.waitKey(0)  \n",
    "cv2.destroyAllWindows()"
   ]
  },
  {
   "cell_type": "code",
   "execution_count": null,
   "id": "dbc4d4c3",
   "metadata": {},
   "outputs": [],
   "source": []
  }
 ],
 "metadata": {
  "kernelspec": {
   "display_name": "Python 3 (ipykernel)",
   "language": "python",
   "name": "python3"
  },
  "language_info": {
   "codemirror_mode": {
    "name": "ipython",
    "version": 3
   },
   "file_extension": ".py",
   "mimetype": "text/x-python",
   "name": "python",
   "nbconvert_exporter": "python",
   "pygments_lexer": "ipython3",
   "version": "3.9.7"
  }
 },
 "nbformat": 4,
 "nbformat_minor": 5
}
